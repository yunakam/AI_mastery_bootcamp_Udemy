{
 "cells": [
  {
   "cell_type": "markdown",
   "id": "36747293",
   "metadata": {},
   "source": [
    "# Hands-on exercise"
   ]
  },
  {
   "cell_type": "code",
   "execution_count": 3,
   "id": "c1a52f32",
   "metadata": {},
   "outputs": [],
   "source": [
    "import numpy as np\n",
    "import pandas as pd\n",
    "import matplotlib.pyplot as plt\n",
    "import seaborn as sns\n",
    "from sklearn.model_selection import train_test_split\n",
    "from sklearn.linear_model import LinearRegression\n",
    "from sklearn.metrics import mean_squared_error, r2_score"
   ]
  },
  {
   "cell_type": "markdown",
   "id": "4022a444",
   "metadata": {},
   "source": [
    "## Steps in Linear Regression:\n",
    "1. Fit the model\n",
    "2. Predict\n",
    "3. Evaluate"
   ]
  },
  {
   "cell_type": "code",
   "execution_count": 4,
   "id": "74492f71",
   "metadata": {},
   "outputs": [
    {
     "name": "stdout",
     "output_type": "stream",
     "text": [
      "Slope : 2.959864731496057\n",
      "Intercept : 1.429133194585603\n"
     ]
    }
   ],
   "source": [
    "\n",
    "# Generate synthetic data\n",
    "np.random.seed(42)\n",
    "X = np.random.rand(100, 1) * 100  # Feature: Random values between 0 and 100\n",
    "y = 3 * X.squeeze() + np.random.randn(100) * 10  # Target: Linear relation with some noise\n",
    "\n",
    "# Split the data into training and testing sets\n",
    "X_train, X_test, y_train, y_test = train_test_split(X, y, test_size=0.2, random_state=42)\n",
    "\n",
    "# Create and fit the model\n",
    "model = LinearRegression()\n",
    "model.fit(X_train, y_train)\n",
    "\n",
    "# Make predictions\n",
    "y_pred = model.predict(X_test)\n",
    "\n",
    "# Print model coefficients\n",
    "print(f\"Slope : {model.coef_[0]}\")\n",
    "print(f\"Intercept : {model.intercept_}\")\n"
   ]
  },
  {
   "cell_type": "code",
   "execution_count": null,
   "id": "2236c9a8",
   "metadata": {},
   "outputs": [],
   "source": []
  }
 ],
 "metadata": {
  "kernelspec": {
   "display_name": "Python 3",
   "language": "python",
   "name": "python3"
  },
  "language_info": {
   "codemirror_mode": {
    "name": "ipython",
    "version": 3
   },
   "file_extension": ".py",
   "mimetype": "text/x-python",
   "name": "python",
   "nbconvert_exporter": "python",
   "pygments_lexer": "ipython3",
   "version": "3.13.6"
  }
 },
 "nbformat": 4,
 "nbformat_minor": 5
}
