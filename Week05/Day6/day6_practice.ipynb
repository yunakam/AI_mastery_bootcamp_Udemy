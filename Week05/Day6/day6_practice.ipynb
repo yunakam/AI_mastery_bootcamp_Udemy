{
 "cells": [
  {
   "cell_type": "markdown",
   "id": "3a7b11e7",
   "metadata": {},
   "source": [
    "## k-Nearest Neighbors\n",
    "- non-parametric instance-based ML algorithm\n",
    "    - uses *distance metric*\n",
    "- used both for regression and classification tasks:\n",
    "    - **classification - the majority class among the k nearest neighbors**\n",
    "    - **regression - the average of the target values of the k nearest neighbors**\n",
    "\n",
    "#### Steps\n",
    "1. Feature scaling\n",
    "2. Calculate distances\n",
    "3. Identify *k* nearest neighbors\n",
    "4. Make predictions\n",
    "\n",
    "#### Optimal value of *k*\n",
    "- Small k: \n",
    "    - (+) capture local variations in data\n",
    "    - (-) high sensitivity to noice\n",
    "- Large k:\n",
    "    - (+) smoother decision boundaries\n",
    "    - (-) can miss finer details\n",
    "- Common practices\n",
    "    - use **cross-validation** to determin the optimal value of *k*\n",
    "    - a common starting point:  $ k = \\sqrt{n} $  (n: number of training samples)\n",
    "\n",
    "#### Limitations\n",
    "- computationally expensive\n",
    "- dependent on feature scaling\n",
    "- not robust to imbalanced data"
   ]
  },
  {
   "cell_type": "markdown",
   "id": "a80142b6",
   "metadata": {},
   "source": [
    "### Exercise 1: Implement k-NN for a classification task (Iris), experimenting with different values of k"
   ]
  },
  {
   "cell_type": "code",
   "execution_count": 5,
   "id": "dd720c63",
   "metadata": {},
   "outputs": [],
   "source": [
    "from sklearn.datasets import load_iris\n",
    "from sklearn.model_selection import train_test_split\n",
    "from sklearn.preprocessing import StandardScaler\n",
    "from sklearn.neighbors import KNeighborsClassifier\n",
    "from sklearn.metrics import accuracy_score"
   ]
  },
  {
   "cell_type": "code",
   "execution_count": 3,
   "id": "5e6fb86a",
   "metadata": {},
   "outputs": [
    {
     "name": "stdout",
     "output_type": "stream",
     "text": [
      "Accuracy for k=1: 1.00\n",
      "Accuracy for k=2: 1.00\n",
      "Accuracy for k=3: 1.00\n",
      "Accuracy for k=4: 1.00\n",
      "Accuracy for k=5: 1.00\n",
      "Accuracy for k=6: 1.00\n",
      "Accuracy for k=7: 1.00\n",
      "Accuracy for k=8: 1.00\n",
      "Accuracy for k=9: 1.00\n",
      "Accuracy for k=10: 1.00\n"
     ]
    }
   ],
   "source": [
    "# Load the Iris dataset\n",
    "data = load_iris()\n",
    "\n",
    "# Split the dataset into training and testing sets\n",
    "X_train, X_test, y_train, y_test = train_test_split(data.data, data.target, test_size=0.2, random_state=42)\n",
    "\n",
    "# Scale the features (optional, but often recommended for KNN)\n",
    "scaler = StandardScaler()\n",
    "X_train = scaler.fit_transform(X_train)\n",
    "X_test = scaler.transform(X_test)\n",
    "\n",
    "# Experiment with different values of k\n",
    "for k in range(1, 11):\n",
    "    # Initialize k-NN classifier with k neighbors\n",
    "    knn = KNeighborsClassifier(n_neighbors=k)\n",
    "    \n",
    "    # Fit the model on the training data\n",
    "    knn.fit(X_train, y_train)\n",
    "    \n",
    "    # Make predictions on the test data\n",
    "    y_pred = knn.predict(X_test)\n",
    "    \n",
    "    # Evaluate the model\n",
    "    accuracy = accuracy_score(y_test, y_pred)\n",
    "    print(f'Accuracy for k={k}: {accuracy:.2f}')"
   ]
  },
  {
   "cell_type": "markdown",
   "id": "efebff62",
   "metadata": {},
   "source": [
    "-> We can use k=1 for this dataset"
   ]
  },
  {
   "cell_type": "markdown",
   "id": "cd66d97e",
   "metadata": {},
   "source": [
    "### Exercise 2: Compare k-NN results to logistic regression"
   ]
  },
  {
   "cell_type": "code",
   "execution_count": 8,
   "id": "7d8ececa",
   "metadata": {},
   "outputs": [
    {
     "name": "stdout",
     "output_type": "stream",
     "text": [
      "Logistic Regression Accuracy: 1.00\n",
      "k-NN (k=1) Accuracy: 1.00\n",
      "\n",
      "\n",
      "Classification Report for Logistic Regression:\n",
      "               precision    recall  f1-score   support\n",
      "\n",
      "      setosa       1.00      1.00      1.00        10\n",
      "  versicolor       1.00      1.00      1.00         9\n",
      "   virginica       1.00      1.00      1.00        11\n",
      "\n",
      "    accuracy                           1.00        30\n",
      "   macro avg       1.00      1.00      1.00        30\n",
      "weighted avg       1.00      1.00      1.00        30\n",
      "\n",
      "Classification Report for k-NN (k=1):\n",
      "               precision    recall  f1-score   support\n",
      "\n",
      "      setosa       1.00      1.00      1.00        10\n",
      "  versicolor       1.00      1.00      1.00         9\n",
      "   virginica       1.00      1.00      1.00        11\n",
      "\n",
      "    accuracy                           1.00        30\n",
      "   macro avg       1.00      1.00      1.00        30\n",
      "weighted avg       1.00      1.00      1.00        30\n",
      "\n"
     ]
    }
   ],
   "source": [
    "from sklearn.metrics import accuracy_score, classification_report, confusion_matrix\n",
    "from sklearn.linear_model import LogisticRegression\n",
    "\n",
    "data = load_iris()\n",
    "X_train, X_test, y_train, y_test = train_test_split(data.data, data.target, test_size=0.2, random_state=42)\n",
    "scaler = StandardScaler()\n",
    "X_train = scaler.fit_transform(X_train)\n",
    "X_test = scaler.transform(X_test)\n",
    "\n",
    "# Train a logistic regression model\n",
    "logistic_model = LogisticRegression(max_iter=200)\n",
    "logistic_model.fit(X_train, y_train)\n",
    "\n",
    "# Make predictions\n",
    "y_pred_lr = logistic_model.predict(X_test)\n",
    "\n",
    "# Compute accuracy\n",
    "accuracy_lr = accuracy_score(y_test, y_pred_lr)\n",
    "print(f'Logistic Regression Accuracy: {accuracy_lr:.2f}')\n",
    "\n",
    "# Evaluate k-NN with k=1\n",
    "knn = KNeighborsClassifier(n_neighbors=1)\n",
    "knn.fit(X_train, y_train)\n",
    "y_pred_knn = knn.predict(X_test)\n",
    "\n",
    "# Compute accuracy for k-NN\n",
    "accuracy_knn = accuracy_score(y_test, y_pred_knn)\n",
    "print(f'k-NN (k=1) Accuracy: {accuracy_knn:.2f}')\n",
    "\n",
    "print(\"\\n\")\n",
    "\n",
    "# Detailed comparison\n",
    "print(\"Classification Report for Logistic Regression:\\n\", classification_report(y_test, y_pred_lr, target_names=data.target_names))\n",
    "print(\"Classification Report for k-NN (k=1):\\n\", classification_report(y_test, y_pred_knn, target_names=data.target_names))\n",
    "\n"
   ]
  }
 ],
 "metadata": {
  "kernelspec": {
   "display_name": "Python 3",
   "language": "python",
   "name": "python3"
  },
  "language_info": {
   "codemirror_mode": {
    "name": "ipython",
    "version": 3
   },
   "file_extension": ".py",
   "mimetype": "text/x-python",
   "name": "python",
   "nbconvert_exporter": "python",
   "pygments_lexer": "ipython3",
   "version": "3.13.6"
  }
 },
 "nbformat": 4,
 "nbformat_minor": 5
}
