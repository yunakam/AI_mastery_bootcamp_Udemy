{
 "cells": [
  {
   "cell_type": "markdown",
   "id": "b274422f",
   "metadata": {},
   "source": [
    "# One-Hotエンコーディング、ラベルエンコーディング\n",
    "カテゴリ変数\n",
    "- バイナリ：性別など\n",
    "- マルチクラス：色、国など\n",
    "\n",
    "#### **One-Hotエンコーディング**\n",
    "- カテゴリ特徴の各項目にバイナリ列を作成\n",
    "    - \"性別\"カテゴリ -> \"女\"列（値が\"女\"なら1, \"男\"なら0）, \"男\"列（値が\"男\"なら1, \"女\"なら0）\n",
    "- 適用場面\n",
    "    - 固有カテゴリが少数\n",
    "    - ツリーベースモデル、ロジスティック回帰、ニューラルネットワーク\n",
    "\n",
    "#### **ラベルエンコーディング**\n",
    "- 各カテゴリに一意の整数を割り当てる\n",
    "    - [\"Red\", \"Blue\", \"Green\"] -> [0, 1, 2]\n",
    "- 適用場面\n",
    "    - 順序が重要なカテゴリ\n",
    "- 制限事項：カテゴリを順序通りに解釈してしまう可能性がある\n",
    "\n",
    "#### ⾼カーディナリティカテゴリ特徴の取り扱い\n",
    "- 固有カテゴリの数が多いカテゴリ\n",
    "    - Low-cardinality ... 色\n",
    "    - High-cardinality ... 郵便番号, ユーザーID\n",
    "- 課題\n",
    "    - 次元が増える・・・One-Hotエンコーディングを使うと特徴量の次元が爆発的に増え、メモリ消費や学習時間が大幅に増加\n",
    "    - スパース表現（疎な表現）・・・ほとんどのデータが0という疎行列になるため、情報が薄く、モデルの訓練が難しい\n",
    "- 対処策\n",
    "    1. **Frequency Encoding（頻度エンコーディング）**\n",
    "        - カテゴリを、そのカテゴリがデータセット内に何回登場したかの**出現回数**で置き換える\n",
    "        ```\n",
    "        City = ['NY', 'LA', 'NY', 'SF', 'LA']\n",
    "        出現回数:\n",
    "          NY → 2\n",
    "          LA → 2\n",
    "          SF → 1\n",
    "        変換後: [2, 2, 2, 1, 2]\n",
    "\n",
    "        ```\n",
    "    2. **Target Encoding（ターゲットエンコーディング）**\n",
    "        - カテゴリを、そのカテゴリに属するサンプルの**目的変数（ターゲット）の平均値**で置き換える\n",
    "\n",
    "        ```\n",
    "        City:   NY,  LA,  NY,  SF,  LA\n",
    "        Target: 1,   0,   1,   0,   1\n",
    "        カテゴリ別平均:\n",
    "         NY → (1 + 1) / 2 = 1.0\n",
    "        LA → (0 + 1) / 2 = 0.5\n",
    "        SF → (0) / 1 = 0.0\n",
    "        変換後: [1.0, 0.5, 1.0, 0.0, 0.5]\n",
    "        ```\n",
    "\n",
    "#### エンコーディング使い分け\n",
    "| エンコード技術           | 使用事例 |\n",
    "|--------------------------|----------|\n",
    "| ワンホットエンコーディング | 少数の固有カテゴリを持つ名義特徴 |\n",
    "| ラベルエンコーディング   | 順序特徴、またはツリーベースモデルのようなアルゴリズムで使用される場合 |\n",
    "| 周波数エンコーディング   | 回帰と分類タスクの両方における高カーディナリティ特徴 |\n",
    "| ターゲットエンコーディング | 教師あり学習タスクにおける高カーディナリティ特徴 |"
   ]
  },
  {
   "cell_type": "markdown",
   "id": "a3b9c485",
   "metadata": {},
   "source": [
    "----\n",
    "## 演習\n",
    "1. カテゴリ変数を含むデータセットにワンホットエンコーディングとラベルエンコーディングを適⽤する\n",
    "2. 様々なエンコーディング手法を試してモデルのパフォーマンスへの影響を観察する"
   ]
  },
  {
   "cell_type": "code",
   "execution_count": 73,
   "id": "25f94a1f",
   "metadata": {},
   "outputs": [],
   "source": [
    "import pandas as pd\n",
    "from sklearn.model_selection import train_test_split\n",
    "from sklearn.linear_model import LogisticRegression\n",
    "from sklearn.metrics import accuracy_score"
   ]
  },
  {
   "cell_type": "code",
   "execution_count": 74,
   "id": "85def17d",
   "metadata": {},
   "outputs": [],
   "source": [
    "# Load Titanic dataset\n",
    "titanic_df = pd.read_csv('https://raw.githubusercontent.com/datasciencedojo/datasets/master/titanic.csv')"
   ]
  },
  {
   "cell_type": "code",
   "execution_count": 75,
   "id": "f19c2b62",
   "metadata": {},
   "outputs": [
    {
     "name": "stdout",
     "output_type": "stream",
     "text": [
      "<class 'pandas.core.frame.DataFrame'>\n",
      "RangeIndex: 891 entries, 0 to 890\n",
      "Data columns (total 12 columns):\n",
      " #   Column       Non-Null Count  Dtype  \n",
      "---  ------       --------------  -----  \n",
      " 0   PassengerId  891 non-null    int64  \n",
      " 1   Survived     891 non-null    int64  \n",
      " 2   Pclass       891 non-null    int64  \n",
      " 3   Name         891 non-null    object \n",
      " 4   Sex          891 non-null    object \n",
      " 5   Age          714 non-null    float64\n",
      " 6   SibSp        891 non-null    int64  \n",
      " 7   Parch        891 non-null    int64  \n",
      " 8   Ticket       891 non-null    object \n",
      " 9   Fare         891 non-null    float64\n",
      " 10  Cabin        204 non-null    object \n",
      " 11  Embarked     889 non-null    object \n",
      "dtypes: float64(2), int64(5), object(5)\n",
      "memory usage: 83.7+ KB\n",
      "Dataset info: None\n"
     ]
    }
   ],
   "source": [
    "print(\"Dataset info:\", titanic_df.info())"
   ]
  },
  {
   "cell_type": "markdown",
   "id": "452f2a54",
   "metadata": {},
   "source": [
    "### Load dataset (Titanic)"
   ]
  },
  {
   "cell_type": "code",
   "execution_count": 76,
   "id": "df1c6a27",
   "metadata": {},
   "outputs": [
    {
     "name": "stdout",
     "output_type": "stream",
     "text": [
      "   PassengerId  Survived  Pclass  \\\n",
      "0            1         0       3   \n",
      "1            2         1       1   \n",
      "2            3         1       3   \n",
      "3            4         1       1   \n",
      "4            5         0       3   \n",
      "\n",
      "                                                Name     Sex   Age  SibSp  \\\n",
      "0                            Braund, Mr. Owen Harris    male  22.0      1   \n",
      "1  Cumings, Mrs. John Bradley (Florence Briggs Th...  female  38.0      1   \n",
      "2                             Heikkinen, Miss. Laina  female  26.0      0   \n",
      "3       Futrelle, Mrs. Jacques Heath (Lily May Peel)  female  35.0      1   \n",
      "4                           Allen, Mr. William Henry    male  35.0      0   \n",
      "\n",
      "   Parch            Ticket     Fare Cabin Embarked  \n",
      "0      0         A/5 21171   7.2500   NaN        S  \n",
      "1      0          PC 17599  71.2833   C85        C  \n",
      "2      0  STON/O2. 3101282   7.9250   NaN        S  \n",
      "3      0            113803  53.1000  C123        S  \n",
      "4      0            373450   8.0500   NaN        S  \n"
     ]
    }
   ],
   "source": [
    "# Display the first few rows of the dataset\n",
    "print(titanic_df.head())"
   ]
  },
  {
   "cell_type": "code",
   "execution_count": 77,
   "id": "6f89b8f3",
   "metadata": {},
   "outputs": [
    {
     "data": {
      "text/plain": [
       "PassengerId      0\n",
       "Survived         0\n",
       "Pclass           0\n",
       "Name             0\n",
       "Sex              0\n",
       "Age            177\n",
       "SibSp            0\n",
       "Parch            0\n",
       "Ticket           0\n",
       "Fare             0\n",
       "Cabin          687\n",
       "Embarked         2\n",
       "dtype: int64"
      ]
     },
     "execution_count": 77,
     "metadata": {},
     "output_type": "execute_result"
    }
   ],
   "source": [
    "# Check the number of Nan per column\n",
    "titanic_df.isna().sum()"
   ]
  },
  {
   "cell_type": "code",
   "execution_count": 78,
   "id": "17ea1ca4",
   "metadata": {},
   "outputs": [
    {
     "data": {
      "text/plain": [
       "PassengerId    0\n",
       "Survived       0\n",
       "Pclass         0\n",
       "Name           0\n",
       "Sex            0\n",
       "Age            0\n",
       "SibSp          0\n",
       "Parch          0\n",
       "Ticket         0\n",
       "Fare           0\n",
       "Embarked       0\n",
       "dtype: int64"
      ]
     },
     "execution_count": 78,
     "metadata": {},
     "output_type": "execute_result"
    }
   ],
   "source": [
    "# Fill NaN in 'Age' with Median\n",
    "titanic_df['Age'] = titanic_df['Age'].fillna(titanic_df['Age'].median())\n",
    "\n",
    "# Drop 'Cabin' column\n",
    "titanic_df_raw = titanic_df\n",
    "titanic_df = titanic_df.drop(columns=['Cabin'])\n",
    "\n",
    "# Drop the rows if 'Embarked' is Nan\n",
    "titanic_df = titanic_df.dropna(subset=['Embarked'])\n",
    "\n",
    "# Check Nan per column again\n",
    "titanic_df.isna().sum()"
   ]
  },
  {
   "cell_type": "code",
   "execution_count": 79,
   "id": "4570aedd",
   "metadata": {},
   "outputs": [
    {
     "name": "stdout",
     "output_type": "stream",
     "text": [
      "<class 'pandas.core.frame.DataFrame'>\n",
      "Index: 889 entries, 0 to 890\n",
      "Data columns (total 11 columns):\n",
      " #   Column       Non-Null Count  Dtype  \n",
      "---  ------       --------------  -----  \n",
      " 0   PassengerId  889 non-null    int64  \n",
      " 1   Survived     889 non-null    int64  \n",
      " 2   Pclass       889 non-null    int64  \n",
      " 3   Name         889 non-null    object \n",
      " 4   Sex          889 non-null    object \n",
      " 5   Age          889 non-null    float64\n",
      " 6   SibSp        889 non-null    int64  \n",
      " 7   Parch        889 non-null    int64  \n",
      " 8   Ticket       889 non-null    object \n",
      " 9   Fare         889 non-null    float64\n",
      " 10  Embarked     889 non-null    object \n",
      "dtypes: float64(2), int64(5), object(4)\n",
      "memory usage: 83.3+ KB\n"
     ]
    }
   ],
   "source": [
    "titanic_df.info()"
   ]
  },
  {
   "cell_type": "code",
   "execution_count": 80,
   "id": "087f35e2",
   "metadata": {},
   "outputs": [],
   "source": [
    "# Set the target variable\n",
    "y = titanic_df['Survived']"
   ]
  },
  {
   "cell_type": "markdown",
   "id": "36d492a1",
   "metadata": {},
   "source": [
    "### One-Hot Encoding"
   ]
  },
  {
   "cell_type": "code",
   "execution_count": 81,
   "id": "74f19b5a",
   "metadata": {},
   "outputs": [
    {
     "name": "stdout",
     "output_type": "stream",
     "text": [
      "\n",
      "One-Hot Encoded Dataset:\n",
      "    PassengerId  Survived  Pclass  \\\n",
      "0            1         0       3   \n",
      "1            2         1       1   \n",
      "2            3         1       3   \n",
      "3            4         1       1   \n",
      "4            5         0       3   \n",
      "\n",
      "                                                Name   Age  SibSp  Parch  \\\n",
      "0                            Braund, Mr. Owen Harris  22.0      1      0   \n",
      "1  Cumings, Mrs. John Bradley (Florence Briggs Th...  38.0      1      0   \n",
      "2                             Heikkinen, Miss. Laina  26.0      0      0   \n",
      "3       Futrelle, Mrs. Jacques Heath (Lily May Peel)  35.0      1      0   \n",
      "4                           Allen, Mr. William Henry  35.0      0      0   \n",
      "\n",
      "             Ticket     Fare  Sex_female  Sex_male  Embarked_C  Embarked_Q  \\\n",
      "0         A/5 21171   7.2500       False      True       False       False   \n",
      "1          PC 17599  71.2833        True     False        True       False   \n",
      "2  STON/O2. 3101282   7.9250        True     False       False       False   \n",
      "3            113803  53.1000        True     False       False       False   \n",
      "4            373450   8.0500       False      True       False       False   \n",
      "\n",
      "   Embarked_S  \n",
      "0        True  \n",
      "1       False  \n",
      "2        True  \n",
      "3        True  \n",
      "4        True  \n"
     ]
    }
   ],
   "source": [
    "# Apply One-Hot Encoding\n",
    "titanic_df_one_hot = pd.get_dummies(titanic_df, columns=['Sex', 'Embarked'])\n",
    "print(\"\\nOne-Hot Encoded Dataset:\\n\", titanic_df_one_hot.head())"
   ]
  },
  {
   "cell_type": "code",
   "execution_count": 82,
   "id": "b545599a",
   "metadata": {},
   "outputs": [
    {
     "name": "stdout",
     "output_type": "stream",
     "text": [
      "Accuracy with One-Hot Encoding: 0.7808988764044944\n"
     ]
    }
   ],
   "source": [
    "X_one_hot = titanic_df_one_hot.drop(columns=['PassengerId', 'Survived', 'Name', 'Ticket', 'Age'])\n",
    "y = titanic_df['Survived']\n",
    "\n",
    "# Split dataset\n",
    "X_one_hot_train, X_one_hot_test, y_train, y_test = train_test_split(X_one_hot, y, test_size=0.2, random_state=42)\n",
    "\n",
    "# Train logistic regression model\n",
    "model = LogisticRegression(max_iter=200)\n",
    "model.fit(X_one_hot_train, y_train)\n",
    "\n",
    "y_pred = model.predict(X_one_hot_test)\n",
    "print(\"Accuracy with One-Hot Encoding:\", accuracy_score(y_test, y_pred))"
   ]
  },
  {
   "cell_type": "markdown",
   "id": "907275e5",
   "metadata": {},
   "source": [
    "### Label Encoding"
   ]
  },
  {
   "cell_type": "code",
   "execution_count": 83,
   "id": "5f97ba1f",
   "metadata": {},
   "outputs": [
    {
     "name": "stdout",
     "output_type": "stream",
     "text": [
      "\n",
      "Label Encoded Feature:\n",
      "    Pclass  Pclass_encoded\n",
      "0       3               2\n",
      "1       1               0\n",
      "2       3               2\n",
      "3       1               0\n",
      "4       3               2\n",
      "\n",
      "Current columns:\n",
      " Index(['PassengerId', 'Survived', 'Pclass', 'Name', 'Age', 'SibSp', 'Parch',\n",
      "       'Ticket', 'Fare', 'Sex_female', 'Sex_male', 'Embarked_C', 'Embarked_Q',\n",
      "       'Embarked_S', 'Pclass_encoded'],\n",
      "      dtype='object')\n"
     ]
    }
   ],
   "source": [
    "# Apply Label Encoding to ordinal categories (順序カテゴリ)\n",
    "from sklearn.preprocessing import LabelEncoder\n",
    "\n",
    "label_encoder = LabelEncoder()\n",
    "titanic_df_one_hot['Pclass_encoded'] = label_encoder.fit_transform(titanic_df_one_hot['Pclass'])\n",
    "\n",
    "print(\"\\nLabel Encoded Feature:\\n\", titanic_df_one_hot[['Pclass', 'Pclass_encoded']].head())\n",
    "print(\"\\nCurrent columns:\\n\", titanic_df_one_hot.columns)\n"
   ]
  },
  {
   "cell_type": "code",
   "execution_count": null,
   "id": "8e37355f",
   "metadata": {},
   "outputs": [
    {
     "data": {
      "text/plain": [
       "Index(['Age', 'SibSp', 'Parch', 'Fare', 'Sex_female', 'Sex_male', 'Embarked_C',\n",
       "       'Embarked_Q', 'Embarked_S', 'Pclass_encoded'],\n",
       "      dtype='object')"
      ]
     },
     "execution_count": 84,
     "metadata": {},
     "output_type": "execute_result"
    }
   ],
   "source": [
    "# \n",
    "X_Pclass_encoded = titanic_df_one_hot.drop(columns=['PassengerId', 'Survived', 'Pclass', 'Name', 'Ticket'])\n",
    "X_Pclass_encoded.columns"
   ]
  },
  {
   "cell_type": "code",
   "execution_count": 85,
   "id": "ed98c752",
   "metadata": {},
   "outputs": [
    {
     "name": "stdout",
     "output_type": "stream",
     "text": [
      "Accuracy with Pclass Encoded: 0.7696629213483146\n"
     ]
    },
    {
     "name": "stderr",
     "output_type": "stream",
     "text": [
      "c:\\Users\\reyad\\AppData\\Local\\Programs\\Python\\Python313\\Lib\\site-packages\\sklearn\\linear_model\\_logistic.py:473: ConvergenceWarning: lbfgs failed to converge after 200 iteration(s) (status=1):\n",
      "STOP: TOTAL NO. OF ITERATIONS REACHED LIMIT\n",
      "\n",
      "Increase the number of iterations to improve the convergence (max_iter=200).\n",
      "You might also want to scale the data as shown in:\n",
      "    https://scikit-learn.org/stable/modules/preprocessing.html\n",
      "Please also refer to the documentation for alternative solver options:\n",
      "    https://scikit-learn.org/stable/modules/linear_model.html#logistic-regression\n",
      "  n_iter_i = _check_optimize_result(\n"
     ]
    }
   ],
   "source": [
    "# Split dataset\n",
    "X_Pclass_encoded_train, X_Pclass_encoded_test, y_train, y_test = train_test_split(X_Pclass_encoded, y, test_size=0.2, random_state=42)\n",
    "\n",
    "# Train logistic regression model\n",
    "model = LogisticRegression(max_iter=200)\n",
    "model.fit(X_Pclass_encoded_train, y_train)\n",
    "\n",
    "y_pred = model.predict(X_Pclass_encoded_test)\n",
    "print(\"Accuracy with Pclass Encoded:\", accuracy_score(y_test, y_pred))"
   ]
  },
  {
   "cell_type": "markdown",
   "id": "defb67a4",
   "metadata": {},
   "source": [
    "### Frequency Encoding"
   ]
  },
  {
   "cell_type": "code",
   "execution_count": 86,
   "id": "0f48c232",
   "metadata": {},
   "outputs": [
    {
     "name": "stdout",
     "output_type": "stream",
     "text": [
      "\n",
      "Frequency Encoded Feature:\n",
      "              Ticket  Ticket_frequency\n",
      "0         A/5 21171                 1\n",
      "1          PC 17599                 1\n",
      "2  STON/O2. 3101282                 1\n",
      "3            113803                 2\n",
      "4            373450                 1\n"
     ]
    }
   ],
   "source": [
    "# Apply Frequency Encoding\n",
    "titanic_df_one_hot['Ticket_frequency'] = titanic_df_one_hot['Ticket'].map(titanic_df_one_hot['Ticket'].value_counts())\n",
    "\n",
    "print(\"\\nFrequency Encoded Feature:\\n\", titanic_df_one_hot[['Ticket', 'Ticket_frequency']].head())"
   ]
  },
  {
   "cell_type": "code",
   "execution_count": 87,
   "id": "0d84656e",
   "metadata": {},
   "outputs": [
    {
     "name": "stdout",
     "output_type": "stream",
     "text": [
      "\n",
      "Current columns:\n",
      " Index(['PassengerId', 'Survived', 'Pclass', 'Name', 'Age', 'SibSp', 'Parch',\n",
      "       'Ticket', 'Fare', 'Sex_female', 'Sex_male', 'Embarked_C', 'Embarked_Q',\n",
      "       'Embarked_S', 'Pclass_encoded', 'Ticket_frequency'],\n",
      "      dtype='object')\n"
     ]
    }
   ],
   "source": [
    "print(\"\\nCurrent columns:\\n\", titanic_df_one_hot.columns)\n"
   ]
  },
  {
   "cell_type": "code",
   "execution_count": 88,
   "id": "4ee8b8fc",
   "metadata": {},
   "outputs": [
    {
     "data": {
      "text/plain": [
       "Index(['Pclass', 'Age', 'SibSp', 'Parch', 'Fare', 'Sex_female', 'Sex_male',\n",
       "       'Embarked_C', 'Embarked_Q', 'Embarked_S', 'Ticket_frequency'],\n",
       "      dtype='object')"
      ]
     },
     "execution_count": 88,
     "metadata": {},
     "output_type": "execute_result"
    }
   ],
   "source": [
    "X_ticket_encoded = titanic_df_one_hot.drop(columns=['PassengerId', 'Survived', 'Name', 'Ticket', 'Pclass_encoded'])\n",
    "X_ticket_encoded.columns"
   ]
  },
  {
   "cell_type": "code",
   "execution_count": 89,
   "id": "3eae556c",
   "metadata": {},
   "outputs": [
    {
     "name": "stdout",
     "output_type": "stream",
     "text": [
      "Accuracy with Ticket Encoded: 0.7752808988764045\n"
     ]
    },
    {
     "name": "stderr",
     "output_type": "stream",
     "text": [
      "c:\\Users\\reyad\\AppData\\Local\\Programs\\Python\\Python313\\Lib\\site-packages\\sklearn\\linear_model\\_logistic.py:473: ConvergenceWarning: lbfgs failed to converge after 200 iteration(s) (status=1):\n",
      "STOP: TOTAL NO. OF ITERATIONS REACHED LIMIT\n",
      "\n",
      "Increase the number of iterations to improve the convergence (max_iter=200).\n",
      "You might also want to scale the data as shown in:\n",
      "    https://scikit-learn.org/stable/modules/preprocessing.html\n",
      "Please also refer to the documentation for alternative solver options:\n",
      "    https://scikit-learn.org/stable/modules/linear_model.html#logistic-regression\n",
      "  n_iter_i = _check_optimize_result(\n"
     ]
    }
   ],
   "source": [
    "# Split dataset\n",
    "X_ticket_encoded_train, X_ticket_encoded_test, y_train, y_test = train_test_split(X_ticket_encoded, y, test_size=0.2, random_state=42)\n",
    "\n",
    "# Train logistic regression model\n",
    "model = LogisticRegression(max_iter=200)\n",
    "model.fit(X_ticket_encoded_train, y_train)\n",
    "\n",
    "y_pred = model.predict(X_ticket_encoded_test)\n",
    "print(\"Accuracy with Ticket Encoded:\", accuracy_score(y_test, y_pred))"
   ]
  }
 ],
 "metadata": {
  "kernelspec": {
   "display_name": "Python 3",
   "language": "python",
   "name": "python3"
  },
  "language_info": {
   "codemirror_mode": {
    "name": "ipython",
    "version": 3
   },
   "file_extension": ".py",
   "mimetype": "text/x-python",
   "name": "python",
   "nbconvert_exporter": "python",
   "pygments_lexer": "ipython3",
   "version": "3.13.6"
  }
 },
 "nbformat": 4,
 "nbformat_minor": 5
}
