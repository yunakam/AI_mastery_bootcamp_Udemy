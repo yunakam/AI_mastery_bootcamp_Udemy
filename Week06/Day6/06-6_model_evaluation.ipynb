{
 "cells": [
  {
   "cell_type": "markdown",
   "id": "0becfd76",
   "metadata": {},
   "source": [
    "# モデルの性能評価"
   ]
  },
  {
   "cell_type": "markdown",
   "id": "2d76f417",
   "metadata": {},
   "source": [
    "## 回帰の評価指標\n",
    "\n",
    "* **平均絶対誤差（MAE）**\n",
    "\n",
    "  * 誤差の方向を考慮せず、誤差の平均的な大きさを測定\n",
    "  * 使用例：すべての誤差が同等に重要な場合に適している\n",
    "\n",
    "* **平均二乗誤差（MSE）**\n",
    "\n",
    "  * 実測値と予測値の差を二乗し、その平均を測定\n",
    "  * 使用例：MAEよりも大きな誤差を強く罰するため、外れ値に敏感\n",
    "\n",
    "* **二乗平均平方根誤差（RMSE）**\n",
    "\n",
    "  * MSE の平方根を取り、誤差を目的変数と同じ単位で提供\n",
    "  * 使用例：実際の単位で解釈しやすいため、一般的によく使われる指標\n",
    "\n",
    "* **決定係数（R²）**\n",
    "\n",
    "  * モデルが目的変数の変動をどの程度説明できているかを測定\n",
    "  * 使用例：モデルが説明できる分散の割合を示す\n"
   ]
  },
  {
   "cell_type": "markdown",
   "id": "9895f874",
   "metadata": {},
   "source": [
    "## 分類の評価指標\n",
    "\n",
    "* **正解率（Accuracy）**\n",
    "\n",
    "  * 正しく分類されたインスタンスの割合\n",
    "  * 使用例：データセットが均衡している場合に適しているが、不均衡データでは誤解を招く可能性がある\n",
    "\n",
    "* **適合率（Precision）**\n",
    "\n",
    "  * 予測が陽性だった中で、実際に陽性だった割合\n",
    "  * 使用例：偽陽性のコストが高い場合に重要（例：スパム検出）\n",
    "\n",
    "* **再現率（Recall／感度 Sensitivity）**\n",
    "\n",
    "  * 実際に陽性だった中で、正しく陽性と予測できた割合\n",
    "  * 使用例：偽陰性のコストが高い場合に重要（例：医療診断）\n",
    "\n",
    "* **F1スコア（F1 Score）**\n",
    "\n",
    "  * 適合率と再現率の調和平均\n",
    "  * 使用例：不均衡データセットに有用\n",
    "\n",
    "* **ROC-AUC**\n",
    "\n",
    "  * モデルがクラスを識別する能力を測定\n",
    "  * 使用例：二値分類器の評価に重要\n"
   ]
  },
  {
   "cell_type": "markdown",
   "id": "c734891a",
   "metadata": {},
   "source": [
    "## 各指標を使用するタイミングの理解\n",
    "\n",
    "* **回帰（Regression）**\n",
    "\n",
    "  * 誤差の解釈性と均等な重要度を求める場合は MAE を使用\n",
    "  * 大きな誤差をより強く罰したい場合は MSE / RMSE を使用\n",
    "  * 分散の説明には R² を使用するが、単独の性能指標としては使用しない\n",
    "\n",
    "* **分類（Classification）**\n",
    "\n",
    "  * データセットが均衡している場合は Accuracy を使用\n",
    "  * データセットが不均衡な場合は、問題の焦点（例：偽陽性または偽陰性の最小化）に応じて Precision と Recall を使用\n",
    "  * Precision と Recall をバランス良く評価する場合は F1 スコアを使用\n",
    "  * 二値分類におけるモデル全体の性能評価には ROC-AUC を使用"
   ]
  },
  {
   "cell_type": "markdown",
   "id": "2b17322d",
   "metadata": {},
   "source": [
    "---\n",
    "## 演習\n",
    "1. 分類モデル評価\n",
    "2. 回帰モデル評価"
   ]
  },
  {
   "cell_type": "markdown",
   "id": "85fa0d87",
   "metadata": {},
   "source": [
    "#### 分類モデル（iris）"
   ]
  },
  {
   "cell_type": "code",
   "execution_count": 1,
   "id": "6c863e6c",
   "metadata": {},
   "outputs": [],
   "source": [
    "from sklearn.datasets import load_iris\n",
    "from sklearn.model_selection import train_test_split\n",
    "from sklearn.linear_model import LogisticRegression\n",
    "from sklearn.metrics import confusion_matrix, classification_report, ConfusionMatrixDisplay\n",
    "import matplotlib.pyplot as plt"
   ]
  },
  {
   "cell_type": "code",
   "execution_count": null,
   "id": "c4ced1a4",
   "metadata": {},
   "outputs": [],
   "source": [
    "# Load dataset\n",
    "data = load_iris()\n",
    "X = data.data\n",
    "y = (data.target == 0).astype(int)  # target(品種)がクラス 0 なら True -> 1, それ以外は False -> 0"
   ]
  },
  {
   "cell_type": "code",
   "execution_count": 12,
   "id": "21907019",
   "metadata": {},
   "outputs": [
    {
     "data": {
      "text/plain": [
       "array([0, 0, 0, 0, 0, 0, 0, 0, 0, 0, 0, 0, 0, 0, 0, 0, 0, 0, 0, 0, 0, 0,\n",
       "       0, 0, 0, 0, 0, 0, 0, 0, 0, 0, 0, 0, 0, 0, 0, 0, 0, 0, 0, 0, 0, 0,\n",
       "       0, 0, 0, 0, 0, 0, 1, 1, 1, 1, 1, 1, 1, 1, 1, 1, 1, 1, 1, 1, 1, 1,\n",
       "       1, 1, 1, 1, 1, 1, 1, 1, 1, 1, 1, 1, 1, 1, 1, 1, 1, 1, 1, 1, 1, 1,\n",
       "       1, 1, 1, 1, 1, 1, 1, 1, 1, 1, 1, 1, 2, 2, 2, 2, 2, 2, 2, 2, 2, 2,\n",
       "       2, 2, 2, 2, 2, 2, 2, 2, 2, 2, 2, 2, 2, 2, 2, 2, 2, 2, 2, 2, 2, 2,\n",
       "       2, 2, 2, 2, 2, 2, 2, 2, 2, 2, 2, 2, 2, 2, 2, 2, 2, 2])"
      ]
     },
     "execution_count": 12,
     "metadata": {},
     "output_type": "execute_result"
    }
   ],
   "source": [
    "data.target"
   ]
  },
  {
   "cell_type": "code",
   "execution_count": 13,
   "id": "d7c2f7aa",
   "metadata": {},
   "outputs": [
    {
     "data": {
      "text/plain": [
       "array([1, 1, 1, 1, 1, 1, 1, 1, 1, 1, 1, 1, 1, 1, 1, 1, 1, 1, 1, 1, 1, 1,\n",
       "       1, 1, 1, 1, 1, 1, 1, 1, 1, 1, 1, 1, 1, 1, 1, 1, 1, 1, 1, 1, 1, 1,\n",
       "       1, 1, 1, 1, 1, 1, 0, 0, 0, 0, 0, 0, 0, 0, 0, 0, 0, 0, 0, 0, 0, 0,\n",
       "       0, 0, 0, 0, 0, 0, 0, 0, 0, 0, 0, 0, 0, 0, 0, 0, 0, 0, 0, 0, 0, 0,\n",
       "       0, 0, 0, 0, 0, 0, 0, 0, 0, 0, 0, 0, 0, 0, 0, 0, 0, 0, 0, 0, 0, 0,\n",
       "       0, 0, 0, 0, 0, 0, 0, 0, 0, 0, 0, 0, 0, 0, 0, 0, 0, 0, 0, 0, 0, 0,\n",
       "       0, 0, 0, 0, 0, 0, 0, 0, 0, 0, 0, 0, 0, 0, 0, 0, 0, 0])"
      ]
     },
     "execution_count": 13,
     "metadata": {},
     "output_type": "execute_result"
    }
   ],
   "source": [
    "y"
   ]
  },
  {
   "cell_type": "code",
   "execution_count": null,
   "id": "7af9f7ce",
   "metadata": {},
   "outputs": [],
   "source": [
    "# Split dataset\n",
    "X_train, X_test, y_train, y_test = train_test_split(X, y, test_size=0.2, random_state=42)"
   ]
  },
  {
   "cell_type": "code",
   "execution_count": 17,
   "id": "723a5b5e",
   "metadata": {},
   "outputs": [
    {
     "data": {
      "image/png": "[encoded data removed]",
      "text/plain": [
       "<Figure size 640x480 with 2 Axes>"
      ]
     },
     "metadata": {},
     "output_type": "display_data"
    }
   ],
   "source": [
    "# Train logistic regression model\n",
    "model = LogisticRegression()\n",
    "model.fit(X_train, y_train)\n",
    "\n",
    "# Predict\n",
    "y_pred = model.predict(X_test)\n",
    "\n",
    "# Confusion Matrix\n",
    "cm = confusion_matrix(y_test, y_pred)\n",
    "disp = ConfusionMatrixDisplay(confusion_matrix=cm, display_labels=[\"Class 0\", \"Others\"])\n",
    "disp.plot(cmap=\"Blues\")\n",
    "plt.title(\"Confusion Matrix\")\n",
    "plt.show()"
   ]
  },
  {
   "cell_type": "code",
   "execution_count": 16,
   "id": "b0ca09d3",
   "metadata": {},
   "outputs": [
    {
     "name": "stdout",
     "output_type": "stream",
     "text": [
      "\n",
      " Classification Report\n",
      "              precision    recall  f1-score   support\n",
      "\n",
      "           0       1.00      1.00      1.00        20\n",
      "           1       1.00      1.00      1.00        10\n",
      "\n",
      "    accuracy                           1.00        30\n",
      "   macro avg       1.00      1.00      1.00        30\n",
      "weighted avg       1.00      1.00      1.00        30\n",
      "\n"
     ]
    }
   ],
   "source": [
    "# Classification metrics\n",
    "print(\"\\n Classification Report\")\n",
    "print(classification_report(y_test, y_pred))"
   ]
  },
  {
   "cell_type": "markdown",
   "id": "8e45f18b",
   "metadata": {},
   "source": [
    "### 回帰モデル"
   ]
  },
  {
   "cell_type": "code",
   "execution_count": 30,
   "id": "df4687fd",
   "metadata": {},
   "outputs": [],
   "source": [
    "from sklearn.datasets import load_diabetes\n",
    "from sklearn.model_selection import train_test_split\n",
    "from sklearn.linear_model import LinearRegression\n",
    "from sklearn.metrics import mean_absolute_error, mean_squared_error, r2_score\n",
    "import pandas as pd"
   ]
  },
  {
   "cell_type": "code",
   "execution_count": 21,
   "id": "e409b25d",
   "metadata": {},
   "outputs": [
    {
     "data": {
      "text/plain": [
       "0      151.0\n",
       "1       75.0\n",
       "2      141.0\n",
       "3      206.0\n",
       "4      135.0\n",
       "       ...  \n",
       "437    178.0\n",
       "438    104.0\n",
       "439    132.0\n",
       "440    220.0\n",
       "441     57.0\n",
       "Name: target, Length: 442, dtype: float64"
      ]
     },
     "execution_count": 21,
     "metadata": {},
     "output_type": "execute_result"
    }
   ],
   "source": [
    "data = load_diabetes(as_frame=True)\n",
    "\n",
    "data.target     # disease progression (the greater the value, the worse condition)"
   ]
  },
  {
   "cell_type": "code",
   "execution_count": 20,
   "id": "2f978ae3",
   "metadata": {},
   "outputs": [
    {
     "data": {
      "text/html": [
       "<div>\n",
       "<style scoped>\n",
       "    .dataframe tbody tr th:only-of-type {\n",
       "        vertical-align: middle;\n",
       "    }\n",
       "\n",
       "    .dataframe tbody tr th {\n",
       "        vertical-align: top;\n",
       "    }\n",
       "\n",
       "    .dataframe thead th {\n",
       "        text-align: right;\n",
       "    }\n",
       "</style>\n",
       "<table border=\"1\" class=\"dataframe\">\n",
       "  <thead>\n",
       "    <tr style=\"text-align: right;\">\n",
       "      <th></th>\n",
       "      <th>age</th>\n",
       "      <th>sex</th>\n",
       "      <th>bmi</th>\n",
       "      <th>bp</th>\n",
       "      <th>s1</th>\n",
       "      <th>s2</th>\n",
       "      <th>s3</th>\n",
       "      <th>s4</th>\n",
       "      <th>s5</th>\n",
       "      <th>s6</th>\n",
       "    </tr>\n",
       "  </thead>\n",
       "  <tbody>\n",
       "    <tr>\n",
       "      <th>0</th>\n",
       "      <td>0.038076</td>\n",
       "      <td>0.050680</td>\n",
       "      <td>0.061696</td>\n",
       "      <td>0.021872</td>\n",
       "      <td>-0.044223</td>\n",
       "      <td>-0.034821</td>\n",
       "      <td>-0.043401</td>\n",
       "      <td>-0.002592</td>\n",
       "      <td>0.019907</td>\n",
       "      <td>-0.017646</td>\n",
       "    </tr>\n",
       "    <tr>\n",
       "      <th>1</th>\n",
       "      <td>-0.001882</td>\n",
       "      <td>-0.044642</td>\n",
       "      <td>-0.051474</td>\n",
       "      <td>-0.026328</td>\n",
       "      <td>-0.008449</td>\n",
       "      <td>-0.019163</td>\n",
       "      <td>0.074412</td>\n",
       "      <td>-0.039493</td>\n",
       "      <td>-0.068332</td>\n",
       "      <td>-0.092204</td>\n",
       "    </tr>\n",
       "    <tr>\n",
       "      <th>2</th>\n",
       "      <td>0.085299</td>\n",
       "      <td>0.050680</td>\n",
       "      <td>0.044451</td>\n",
       "      <td>-0.005670</td>\n",
       "      <td>-0.045599</td>\n",
       "      <td>-0.034194</td>\n",
       "      <td>-0.032356</td>\n",
       "      <td>-0.002592</td>\n",
       "      <td>0.002861</td>\n",
       "      <td>-0.025930</td>\n",
       "    </tr>\n",
       "    <tr>\n",
       "      <th>3</th>\n",
       "      <td>-0.089063</td>\n",
       "      <td>-0.044642</td>\n",
       "      <td>-0.011595</td>\n",
       "      <td>-0.036656</td>\n",
       "      <td>0.012191</td>\n",
       "      <td>0.024991</td>\n",
       "      <td>-0.036038</td>\n",
       "      <td>0.034309</td>\n",
       "      <td>0.022688</td>\n",
       "      <td>-0.009362</td>\n",
       "    </tr>\n",
       "    <tr>\n",
       "      <th>4</th>\n",
       "      <td>0.005383</td>\n",
       "      <td>-0.044642</td>\n",
       "      <td>-0.036385</td>\n",
       "      <td>0.021872</td>\n",
       "      <td>0.003935</td>\n",
       "      <td>0.015596</td>\n",
       "      <td>0.008142</td>\n",
       "      <td>-0.002592</td>\n",
       "      <td>-0.031988</td>\n",
       "      <td>-0.046641</td>\n",
       "    </tr>\n",
       "  </tbody>\n",
       "</table>\n",
       "</div>"
      ],
      "text/plain": [
       "        age       sex       bmi        bp        s1        s2        s3  \\\n",
       "0  0.038076  0.050680  0.061696  0.021872 -0.044223 -0.034821 -0.043401   \n",
       "1 -0.001882 -0.044642 -0.051474 -0.026328 -0.008449 -0.019163  0.074412   \n",
       "2  0.085299  0.050680  0.044451 -0.005670 -0.045599 -0.034194 -0.032356   \n",
       "3 -0.089063 -0.044642 -0.011595 -0.036656  0.012191  0.024991 -0.036038   \n",
       "4  0.005383 -0.044642 -0.036385  0.021872  0.003935  0.015596  0.008142   \n",
       "\n",
       "         s4        s5        s6  \n",
       "0 -0.002592  0.019907 -0.017646  \n",
       "1 -0.039493 -0.068332 -0.092204  \n",
       "2 -0.002592  0.002861 -0.025930  \n",
       "3  0.034309  0.022688 -0.009362  \n",
       "4 -0.002592 -0.031988 -0.046641  "
      ]
     },
     "execution_count": 20,
     "metadata": {},
     "output_type": "execute_result"
    }
   ],
   "source": [
    "df = pd.DataFrame(data.data, columns=data.feature_names)\n",
    "df.head()"
   ]
  },
  {
   "cell_type": "code",
   "execution_count": 22,
   "id": "e256e785",
   "metadata": {},
   "outputs": [
    {
     "name": "stdout",
     "output_type": "stream",
     "text": [
      "<class 'pandas.core.frame.DataFrame'>\n",
      "RangeIndex: 442 entries, 0 to 441\n",
      "Data columns (total 10 columns):\n",
      " #   Column  Non-Null Count  Dtype  \n",
      "---  ------  --------------  -----  \n",
      " 0   age     442 non-null    float64\n",
      " 1   sex     442 non-null    float64\n",
      " 2   bmi     442 non-null    float64\n",
      " 3   bp      442 non-null    float64\n",
      " 4   s1      442 non-null    float64\n",
      " 5   s2      442 non-null    float64\n",
      " 6   s3      442 non-null    float64\n",
      " 7   s4      442 non-null    float64\n",
      " 8   s5      442 non-null    float64\n",
      " 9   s6      442 non-null    float64\n",
      "dtypes: float64(10)\n",
      "memory usage: 34.7 KB\n"
     ]
    }
   ],
   "source": [
    "df.info()"
   ]
  },
  {
   "cell_type": "markdown",
   "id": "c725b20e",
   "metadata": {},
   "source": [
    "Meaning of each column:\n",
    "\n",
    "| Column  | Meaning                        | Details                                                     |\n",
    "| ------- | ------------------------------ | ----------------------------------------------------------- |\n",
    "| **age** | Age                            | Normalized to have mean 0 and variance 1                    |\n",
    "| **sex** | Sex                            | Encoded as a binary variable (male/female), then normalized |\n",
    "| **bmi** | Body Mass Index                | Weight (kg) / height² (m²), normalized                      |\n",
    "| **bp**  | Blood pressure                 | Average blood pressure measurement, normalized              |\n",
    "| **s1**  | Serum cholesterol              | Normalized measurement                                      |\n",
    "| **s2**  | Low-density lipoprotein (LDL)  | “Bad cholesterol”, normalized                               |\n",
    "| **s3**  | High-density lipoprotein (HDL) | “Good cholesterol”, normalized                              |\n",
    "| **s4**  | Total cholesterol / HDL ratio  | Risk ratio for cardiovascular disease, normalized           |\n",
    "| **s5**  | Serum triglycerides            | Fat in the blood, normalized                                |\n",
    "| **s6**  | Blood sugar level              | Fasting blood glucose, normalized                           |"
   ]
  },
  {
   "cell_type": "code",
   "execution_count": 31,
   "id": "09397b81",
   "metadata": {},
   "outputs": [
    {
     "name": "stdout",
     "output_type": "stream",
     "text": [
      "Mean Absolute Error (MAE): 42.79409467959994\n",
      "Mean Squared Error (MSE): 2900.1936284934814\n",
      "R2-Score: 0.4526027629719195\n"
     ]
    }
   ],
   "source": [
    "# Split dataset\n",
    "X_train, X_test, y_train, y_test = train_test_split(data.data, y, test_size=0.2, random_state=42)\n",
    "\n",
    "# Train model and evaluate\n",
    "model = LinearRegression()\n",
    "model.fit(X_train, y_train)\n",
    "\n",
    "y_pred = model.predict(X_test)\n",
    "\n",
    "mae = mean_absolute_error(y_test, y_pred)\n",
    "mse = mean_squared_error(y_test, y_pred)\n",
    "r2 = r2_score(y_test, y_pred)\n",
    "\n",
    "print(f\"Mean Absolute Error (MAE): {mae}\")\n",
    "print(f\"Mean Squared Error (MSE): {mse}\")\n",
    "print(f\"R2-Score: {r2}\")\n"
   ]
  }
 ],
 "metadata": {
  "kernelspec": {
   "display_name": "Python 3",
   "language": "python",
   "name": "python3"
  },
  "language_info": {
   "codemirror_mode": {
    "name": "ipython",
    "version": 3
   },
   "file_extension": ".py",
   "mimetype": "text/x-python",
   "name": "python",
   "nbconvert_exporter": "python",
   "pygments_lexer": "ipython3",
   "version": "3.13.6"
  }
 },
 "nbformat": 4,
 "nbformat_minor": 5
}
