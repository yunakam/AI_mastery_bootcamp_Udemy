{
 "cells": [
  {
   "cell_type": "markdown",
   "id": "c61010fd",
   "metadata": {},
   "source": [
    "# データセットの特徴探索\n",
    "カテゴリーデータと数値データごとに特徴を抽出する"
   ]
  },
  {
   "cell_type": "markdown",
   "id": "ae5c292d",
   "metadata": {},
   "source": [
    "### Load dataset"
   ]
  },
  {
   "cell_type": "code",
   "execution_count": 1,
   "id": "f88b5c64",
   "metadata": {},
   "outputs": [
    {
     "name": "stdout",
     "output_type": "stream",
     "text": [
      "   PassengerId  Survived  Pclass  \\\n",
      "0            1         0       3   \n",
      "1            2         1       1   \n",
      "2            3         1       3   \n",
      "3            4         1       1   \n",
      "4            5         0       3   \n",
      "\n",
      "                                                Name     Sex   Age  SibSp  \\\n",
      "0                            Braund, Mr. Owen Harris    male  22.0      1   \n",
      "1  Cumings, Mrs. John Bradley (Florence Briggs Th...  female  38.0      1   \n",
      "2                             Heikkinen, Miss. Laina  female  26.0      0   \n",
      "3       Futrelle, Mrs. Jacques Heath (Lily May Peel)  female  35.0      1   \n",
      "4                           Allen, Mr. William Henry    male  35.0      0   \n",
      "\n",
      "   Parch            Ticket     Fare Cabin Embarked  \n",
      "0      0         A/5 21171   7.2500   NaN        S  \n",
      "1      0          PC 17599  71.2833   C85        C  \n",
      "2      0  STON/O2. 3101282   7.9250   NaN        S  \n",
      "3      0            113803  53.1000  C123        S  \n",
      "4      0            373450   8.0500   NaN        S  \n"
     ]
    }
   ],
   "source": [
    "import pandas as pd\n",
    "\n",
    "# Load Titanic dataset\n",
    "titanic_df = pd.read_csv('https://raw.githubusercontent.com/datasciencedojo/datasets/master/titanic.csv')\n",
    "\n",
    "# Display the first few rows of the dataset\n",
    "print(titanic_df.head())"
   ]
  },
  {
   "cell_type": "code",
   "execution_count": 2,
   "id": "5ad2048b",
   "metadata": {},
   "outputs": [
    {
     "name": "stdout",
     "output_type": "stream",
     "text": [
      "<class 'pandas.core.frame.DataFrame'>\n",
      "RangeIndex: 891 entries, 0 to 890\n",
      "Data columns (total 12 columns):\n",
      " #   Column       Non-Null Count  Dtype  \n",
      "---  ------       --------------  -----  \n",
      " 0   PassengerId  891 non-null    int64  \n",
      " 1   Survived     891 non-null    int64  \n",
      " 2   Pclass       891 non-null    int64  \n",
      " 3   Name         891 non-null    object \n",
      " 4   Sex          891 non-null    object \n",
      " 5   Age          714 non-null    float64\n",
      " 6   SibSp        891 non-null    int64  \n",
      " 7   Parch        891 non-null    int64  \n",
      " 8   Ticket       891 non-null    object \n",
      " 9   Fare         891 non-null    float64\n",
      " 10  Cabin        204 non-null    object \n",
      " 11  Embarked     889 non-null    object \n",
      "dtypes: float64(2), int64(5), object(5)\n",
      "memory usage: 83.7+ KB\n"
     ]
    }
   ],
   "source": [
    "titanic_df.info()  # Display information about the dataset"
   ]
  },
  {
   "cell_type": "markdown",
   "id": "ed390290",
   "metadata": {},
   "source": [
    "### Separate features into categorical and numerical"
   ]
  },
  {
   "cell_type": "code",
   "execution_count": 8,
   "id": "ff0adf5a",
   "metadata": {},
   "outputs": [
    {
     "name": "stdout",
     "output_type": "stream",
     "text": [
      "Categorical Features: ['Name', 'Sex', 'Ticket', 'Cabin', 'Embarked']\n",
      "Numeric Features: ['PassengerId', 'Survived', 'Pclass', 'Age', 'SibSp', 'Parch', 'Fare']\n",
      "Numeric Features2: ['PassengerId', 'Survived', 'Pclass', 'Age', 'SibSp', 'Parch', 'Fare']\n"
     ]
    }
   ],
   "source": [
    "categorical_features = titanic_df.select_dtypes(include=['object']).columns.tolist()\n",
    "numeric_features = titanic_df.select_dtypes(include=['number']).columns.tolist()\n",
    "numeric_features2 = titanic_df.select_dtypes(include=['int64', 'float64']).columns.tolist()\n",
    "\n",
    "print(\"Categorical Features:\", categorical_features)\n",
    "print(\"Numeric Features:\", numeric_features)\n",
    "print(\"Numeric Features2:\", numeric_features2)"
   ]
  },
  {
   "cell_type": "code",
   "execution_count": 12,
   "id": "63e0db75",
   "metadata": {},
   "outputs": [
    {
     "name": "stdout",
     "output_type": "stream",
     "text": [
      "                           Name   Sex  Ticket Cabin Embarked\n",
      "count                       891   891     891   204      889\n",
      "unique                      891     2     681   147        3\n",
      "top     Braund, Mr. Owen Harris  male  347082    G6        S\n",
      "freq                          1   577       7     4      644 \n",
      "\n",
      "Name:\n",
      " Name\n",
      "Braund, Mr. Owen Harris                                1\n",
      "Cumings, Mrs. John Bradley (Florence Briggs Thayer)    1\n",
      "Heikkinen, Miss. Laina                                 1\n",
      "Futrelle, Mrs. Jacques Heath (Lily May Peel)           1\n",
      "Allen, Mr. William Henry                               1\n",
      "                                                      ..\n",
      "Montvila, Rev. Juozas                                  1\n",
      "Graham, Miss. Margaret Edith                           1\n",
      "Johnston, Miss. Catherine Helen \"Carrie\"               1\n",
      "Behr, Mr. Karl Howell                                  1\n",
      "Dooley, Mr. Patrick                                    1\n",
      "Name: count, Length: 891, dtype: int64 \n",
      "\n",
      "Sex:\n",
      " Sex\n",
      "male      577\n",
      "female    314\n",
      "Name: count, dtype: int64 \n",
      "\n",
      "Ticket:\n",
      " Ticket\n",
      "347082              7\n",
      "1601                7\n",
      "CA. 2343            7\n",
      "3101295             6\n",
      "CA 2144             6\n",
      "                   ..\n",
      "PC 17590            1\n",
      "17463               1\n",
      "330877              1\n",
      "373450              1\n",
      "STON/O2. 3101282    1\n",
      "Name: count, Length: 681, dtype: int64 \n",
      "\n",
      "Cabin:\n",
      " Cabin\n",
      "G6             4\n",
      "C23 C25 C27    4\n",
      "B96 B98        4\n",
      "F2             3\n",
      "D              3\n",
      "              ..\n",
      "E17            1\n",
      "A24            1\n",
      "C50            1\n",
      "B42            1\n",
      "C148           1\n",
      "Name: count, Length: 147, dtype: int64 \n",
      "\n",
      "Embarked:\n",
      " Embarked\n",
      "S    644\n",
      "C    168\n",
      "Q     77\n",
      "Name: count, dtype: int64 \n",
      "\n"
     ]
    }
   ],
   "source": [
    "# Display summary of categorical features\n",
    "print(titanic_df[categorical_features].describe(), \"\\n\")\n",
    "\n",
    "for col in categorical_features:\n",
    "    print(f\"{col}:\\n\", titanic_df[col].value_counts(), \"\\n\")"
   ]
  },
  {
   "cell_type": "code",
   "execution_count": 13,
   "id": "d60d2f2a",
   "metadata": {},
   "outputs": [
    {
     "name": "stdout",
     "output_type": "stream",
     "text": [
      "       PassengerId    Survived      Pclass         Age       SibSp  \\\n",
      "count   891.000000  891.000000  891.000000  714.000000  891.000000   \n",
      "mean    446.000000    0.383838    2.308642   29.699118    0.523008   \n",
      "std     257.353842    0.486592    0.836071   14.526497    1.102743   \n",
      "min       1.000000    0.000000    1.000000    0.420000    0.000000   \n",
      "25%     223.500000    0.000000    2.000000   20.125000    0.000000   \n",
      "50%     446.000000    0.000000    3.000000   28.000000    0.000000   \n",
      "75%     668.500000    1.000000    3.000000   38.000000    1.000000   \n",
      "max     891.000000    1.000000    3.000000   80.000000    8.000000   \n",
      "\n",
      "            Parch        Fare  \n",
      "count  891.000000  891.000000  \n",
      "mean     0.381594   32.204208  \n",
      "std      0.806057   49.693429  \n",
      "min      0.000000    0.000000  \n",
      "25%      0.000000    7.910400  \n",
      "50%      0.000000   14.454200  \n",
      "75%      0.000000   31.000000  \n",
      "max      6.000000  512.329200   \n",
      "\n"
     ]
    }
   ],
   "source": [
    "# Display summary of numerical features\n",
    "print(titanic_df[numeric_features].describe(), \"\\n\")"
   ]
  }
 ],
 "metadata": {
  "kernelspec": {
   "display_name": "Python 3",
   "language": "python",
   "name": "python3"
  },
  "language_info": {
   "codemirror_mode": {
    "name": "ipython",
    "version": 3
   },
   "file_extension": ".py",
   "mimetype": "text/x-python",
   "name": "python",
   "nbconvert_exporter": "python",
   "pygments_lexer": "ipython3",
   "version": "3.13.6"
  }
 },
 "nbformat": 4,
 "nbformat_minor": 5
}
