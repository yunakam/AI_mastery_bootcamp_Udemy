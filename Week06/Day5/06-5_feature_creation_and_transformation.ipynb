{
 "cells": [
  {
   "cell_type": "markdown",
   "id": "14dbbfd5",
   "metadata": {},
   "source": [
    "# 特徴量の生成と変換\n",
    "\n",
    "## 特徴量生成\n",
    "既存の特徴量から新しい意味のある特徴量を導き出して、モデルがデータ内の重要なパターンをより良く捉えられるようにする。\n",
    "\n",
    "特徴量生成の例：\n",
    "- 日時機能\n",
    "- インタラクション機能（複数の特徴量を組み合わせる）\n",
    "- 集計（顧客の購入頻度と平均購入額を掛け合わせる）\n",
    "\n",
    "## 特徴量変換\n",
    "既存の特徴量を変更して、学習アルゴリズムにより適合させる手法\n",
    "\n",
    "**一般的な変換方法**\n",
    "- 対数変換（Logarithmic Transformation）\n",
    "    - 強く歪んだ分布における歪度を軽減\n",
    "\n",
    "- 平方根変換（Square Root Transformation）\n",
    "    - 中程度の歪度を軽減、特にカウントデータに使用されることが多い\n",
    "\n",
    "- 多項式変換（Polynomial Transformation）\n",
    "    - 高次項（$𝑥^2, 𝑥^3$ など）を追加して非線形関係を捉える\n",
    "\n",
    "**重要性**\n",
    "- モデルの非線形関係への適合能力を向上させる\n",
    "- 分布をより正規分布に近づけ、正規性を仮定するアルゴリズムの性能向上に寄与\n",
    "\n",
    "**非線形関係における特徴量変換の重要性**\n",
    "\n",
    "* 特徴量変換により、線形モデルが非線形関係を扱えるようになる\n",
    "\n",
    "  * 例：\n",
    "\n",
    "    * 多項式変換は、線形回帰で二次的パターンをモデル化できるようにする\n",
    "    * 対数変換は、分散を安定させ、歪度を処理する\n",
    "\n",
    "* 特徴量を変換することで、モデルはより堅牢になり、データ内の複雑なパターンを捉える能力が向上する"
   ]
  },
  {
   "cell_type": "markdown",
   "id": "b8f411c0",
   "metadata": {},
   "source": [
    "---\n",
    "## 演習\n",
    "1. 日付列から新しい特徴量を作成する（例：曜日、月、年）\n",
    "2. データセットに多項式変換を適用し、変換前後でモデル性能を比較する"
   ]
  },
  {
   "cell_type": "code",
   "execution_count": 30,
   "id": "b33d0c88",
   "metadata": {},
   "outputs": [],
   "source": [
    "import pandas as pd"
   ]
  },
  {
   "cell_type": "code",
   "execution_count": 31,
   "id": "ea3d669d",
   "metadata": {},
   "outputs": [],
   "source": [
    "from sklearn.preprocessing import PolynomialFeatures\n",
    "from sklearn.linear_model import LinearRegression\n",
    "from sklearn.model_selection import train_test_split\n",
    "from sklearn.metrics import mean_squared_error"
   ]
  },
  {
   "cell_type": "markdown",
   "id": "eb64a238",
   "metadata": {},
   "source": [
    "### Load Data"
   ]
  },
  {
   "cell_type": "code",
   "execution_count": 32,
   "id": "a4d8f7fd",
   "metadata": {},
   "outputs": [
    {
     "name": "stdout",
     "output_type": "stream",
     "text": [
      "<class 'pandas.core.frame.DataFrame'>\n",
      "RangeIndex: 731 entries, 0 to 730\n",
      "Data columns (total 16 columns):\n",
      " #   Column      Non-Null Count  Dtype  \n",
      "---  ------      --------------  -----  \n",
      " 0   instant     731 non-null    int64  \n",
      " 1   dteday      731 non-null    object \n",
      " 2   season      731 non-null    int64  \n",
      " 3   yr          731 non-null    int64  \n",
      " 4   mnth        731 non-null    int64  \n",
      " 5   holiday     731 non-null    int64  \n",
      " 6   weekday     731 non-null    int64  \n",
      " 7   workingday  731 non-null    int64  \n",
      " 8   weathersit  731 non-null    int64  \n",
      " 9   temp        731 non-null    float64\n",
      " 10  atemp       731 non-null    float64\n",
      " 11  hum         731 non-null    float64\n",
      " 12  windspeed   731 non-null    float64\n",
      " 13  casual      731 non-null    int64  \n",
      " 14  registered  731 non-null    int64  \n",
      " 15  cnt         731 non-null    int64  \n",
      "dtypes: float64(4), int64(11), object(1)\n",
      "memory usage: 91.5+ KB\n"
     ]
    }
   ],
   "source": [
    "\n",
    "df = pd.read_csv(\"bike_sharing_daily.csv\")\n",
    "df.info()"
   ]
  },
  {
   "cell_type": "code",
   "execution_count": 33,
   "id": "1840fc2d",
   "metadata": {},
   "outputs": [
    {
     "data": {
      "text/html": [
       "<div>\n",
       "<style scoped>\n",
       "    .dataframe tbody tr th:only-of-type {\n",
       "        vertical-align: middle;\n",
       "    }\n",
       "\n",
       "    .dataframe tbody tr th {\n",
       "        vertical-align: top;\n",
       "    }\n",
       "\n",
       "    .dataframe thead th {\n",
       "        text-align: right;\n",
       "    }\n",
       "</style>\n",
       "<table border=\"1\" class=\"dataframe\">\n",
       "  <thead>\n",
       "    <tr style=\"text-align: right;\">\n",
       "      <th></th>\n",
       "      <th>instant</th>\n",
       "      <th>dteday</th>\n",
       "      <th>season</th>\n",
       "      <th>yr</th>\n",
       "      <th>mnth</th>\n",
       "      <th>holiday</th>\n",
       "      <th>weekday</th>\n",
       "      <th>workingday</th>\n",
       "      <th>weathersit</th>\n",
       "      <th>temp</th>\n",
       "      <th>atemp</th>\n",
       "      <th>hum</th>\n",
       "      <th>windspeed</th>\n",
       "      <th>casual</th>\n",
       "      <th>registered</th>\n",
       "      <th>cnt</th>\n",
       "    </tr>\n",
       "  </thead>\n",
       "  <tbody>\n",
       "    <tr>\n",
       "      <th>0</th>\n",
       "      <td>1</td>\n",
       "      <td>2011-01-01</td>\n",
       "      <td>1</td>\n",
       "      <td>0</td>\n",
       "      <td>1</td>\n",
       "      <td>0</td>\n",
       "      <td>6</td>\n",
       "      <td>0</td>\n",
       "      <td>2</td>\n",
       "      <td>0.344167</td>\n",
       "      <td>0.363625</td>\n",
       "      <td>0.805833</td>\n",
       "      <td>0.160446</td>\n",
       "      <td>331</td>\n",
       "      <td>654</td>\n",
       "      <td>985</td>\n",
       "    </tr>\n",
       "    <tr>\n",
       "      <th>1</th>\n",
       "      <td>2</td>\n",
       "      <td>2011-01-02</td>\n",
       "      <td>1</td>\n",
       "      <td>0</td>\n",
       "      <td>1</td>\n",
       "      <td>0</td>\n",
       "      <td>0</td>\n",
       "      <td>0</td>\n",
       "      <td>2</td>\n",
       "      <td>0.363478</td>\n",
       "      <td>0.353739</td>\n",
       "      <td>0.696087</td>\n",
       "      <td>0.248539</td>\n",
       "      <td>131</td>\n",
       "      <td>670</td>\n",
       "      <td>801</td>\n",
       "    </tr>\n",
       "    <tr>\n",
       "      <th>2</th>\n",
       "      <td>3</td>\n",
       "      <td>2011-01-03</td>\n",
       "      <td>1</td>\n",
       "      <td>0</td>\n",
       "      <td>1</td>\n",
       "      <td>0</td>\n",
       "      <td>1</td>\n",
       "      <td>1</td>\n",
       "      <td>1</td>\n",
       "      <td>0.196364</td>\n",
       "      <td>0.189405</td>\n",
       "      <td>0.437273</td>\n",
       "      <td>0.248309</td>\n",
       "      <td>120</td>\n",
       "      <td>1229</td>\n",
       "      <td>1349</td>\n",
       "    </tr>\n",
       "    <tr>\n",
       "      <th>3</th>\n",
       "      <td>4</td>\n",
       "      <td>2011-01-04</td>\n",
       "      <td>1</td>\n",
       "      <td>0</td>\n",
       "      <td>1</td>\n",
       "      <td>0</td>\n",
       "      <td>2</td>\n",
       "      <td>1</td>\n",
       "      <td>1</td>\n",
       "      <td>0.200000</td>\n",
       "      <td>0.212122</td>\n",
       "      <td>0.590435</td>\n",
       "      <td>0.160296</td>\n",
       "      <td>108</td>\n",
       "      <td>1454</td>\n",
       "      <td>1562</td>\n",
       "    </tr>\n",
       "    <tr>\n",
       "      <th>4</th>\n",
       "      <td>5</td>\n",
       "      <td>2011-01-05</td>\n",
       "      <td>1</td>\n",
       "      <td>0</td>\n",
       "      <td>1</td>\n",
       "      <td>0</td>\n",
       "      <td>3</td>\n",
       "      <td>1</td>\n",
       "      <td>1</td>\n",
       "      <td>0.226957</td>\n",
       "      <td>0.229270</td>\n",
       "      <td>0.436957</td>\n",
       "      <td>0.186900</td>\n",
       "      <td>82</td>\n",
       "      <td>1518</td>\n",
       "      <td>1600</td>\n",
       "    </tr>\n",
       "  </tbody>\n",
       "</table>\n",
       "</div>"
      ],
      "text/plain": [
       "   instant      dteday  season  yr  mnth  holiday  weekday  workingday  \\\n",
       "0        1  2011-01-01       1   0     1        0        6           0   \n",
       "1        2  2011-01-02       1   0     1        0        0           0   \n",
       "2        3  2011-01-03       1   0     1        0        1           1   \n",
       "3        4  2011-01-04       1   0     1        0        2           1   \n",
       "4        5  2011-01-05       1   0     1        0        3           1   \n",
       "\n",
       "   weathersit      temp     atemp       hum  windspeed  casual  registered  \\\n",
       "0           2  0.344167  0.363625  0.805833   0.160446     331         654   \n",
       "1           2  0.363478  0.353739  0.696087   0.248539     131         670   \n",
       "2           1  0.196364  0.189405  0.437273   0.248309     120        1229   \n",
       "3           1  0.200000  0.212122  0.590435   0.160296     108        1454   \n",
       "4           1  0.226957  0.229270  0.436957   0.186900      82        1518   \n",
       "\n",
       "    cnt  \n",
       "0   985  \n",
       "1   801  \n",
       "2  1349  \n",
       "3  1562  \n",
       "4  1600  "
      ]
     },
     "execution_count": 33,
     "metadata": {},
     "output_type": "execute_result"
    }
   ],
   "source": [
    "df.head()"
   ]
  },
  {
   "cell_type": "markdown",
   "id": "3e574ac8",
   "metadata": {},
   "source": [
    "### 1. Create new features from a date column"
   ]
  },
  {
   "cell_type": "code",
   "execution_count": 34,
   "id": "f5760cd9",
   "metadata": {},
   "outputs": [
    {
     "name": "stdout",
     "output_type": "stream",
     "text": [
      "\n",
      "New Features:          dteday day_of_week  month  year\n",
      "0   2011-01-01    Saturday      1  2011\n",
      "1   2011-01-02      Sunday      1  2011\n",
      "2   2011-01-03      Monday      1  2011\n",
      "3   2011-01-04     Tuesday      1  2011\n",
      "4   2011-01-05   Wednesday      1  2011\n",
      "..         ...         ...    ...   ...\n",
      "726 2012-12-27    Thursday     12  2012\n",
      "727 2012-12-28      Friday     12  2012\n",
      "728 2012-12-29    Saturday     12  2012\n",
      "729 2012-12-30      Sunday     12  2012\n",
      "730 2012-12-31      Monday     12  2012\n",
      "\n",
      "[731 rows x 4 columns]\n"
     ]
    }
   ],
   "source": [
    "# Convert dteday to datetime\n",
    "df['dteday'] = pd.to_datetime(df['dteday'])\n",
    "\n",
    "# Create new features\n",
    "df['day_of_week'] = df['dteday'].dt.day_name()\n",
    "df['month'] = df['dteday'].dt.month\n",
    "df['year'] = df['dteday'].dt.year\n",
    "\n",
    "# Display the new features\n",
    "print(\"\\nNew Features: \", df[['dteday', 'day_of_week', 'month', 'year']])"
   ]
  },
  {
   "cell_type": "markdown",
   "id": "2eb4d215",
   "metadata": {},
   "source": [
    "### 2a. Apply polynomial transformations to a dataset"
   ]
  },
  {
   "cell_type": "code",
   "execution_count": null,
   "id": "aa00983c",
   "metadata": {},
   "outputs": [],
   "source": [
    "# Select feature and target\n",
    "X = df[['temp']]\n",
    "y = df['cnt']\n",
    "\n",
    "# Split dataset\n",
    "X_train, X_test, y_train, y_test = train_test_split(X, y, test_size=0.2, random_state=42)"
   ]
  },
  {
   "cell_type": "code",
   "execution_count": 36,
   "id": "d857055f",
   "metadata": {},
   "outputs": [],
   "source": [
    "## Train Linear Regression model with the original dataset\n",
    "model_original = LinearRegression()\n",
    "model_original.fit(X_train, y_train)\n",
    "mse_original = mean_squared_error(y_test, model_original.predict(X_test))"
   ]
  },
  {
   "cell_type": "code",
   "execution_count": null,
   "id": "ec9310b8",
   "metadata": {},
   "outputs": [],
   "source": [
    "# Apply polynomial transformation and train the model\n",
    "poly = PolynomialFeatures(degree=2, include_bias=False)\n",
    "\n",
    "X_poly_train = poly.fit_transform(X_train)  # fit は訓練データのみ\n",
    "\"\"\"\n",
    "poly.fit_transform(X) \n",
    "元の特徴量行列 X から、2次までのすべての項（単項・累乗・交互作用項）を計算して新しい特徴量集合を作る。\n",
    "例：\n",
    "[a, b] -> [a, b, a^2, ab, b^2].\n",
    "[a, b, c] -> [a, b, c, a^2, ab, ac, b^2, bc, c^2]\n",
    "\n",
    "目的：\n",
    "モデルが非線形な関係や特徴の組み合わせ（交互作用）を学習できるようにするため、特徴空間を拡張する。\n",
    "特に線形回帰モデルで多項式回帰（非線形カーブの近似）を行いたいときに使われる。\n",
    "\n",
    "fit: 学習データ X_train を見て、多項式項を生成するルールを決定\n",
    "transform: fitで決めたルールに基づいて、 X_train の値を変換して新しい行列(X_poly_train)を生成\n",
    "-> X_poly_trainには 'temp', 'temp^2' の2列データが入る。\n",
    "\"\"\"\n",
    "\n",
    "X_poly_test  = poly.transform(X_test)       # テストは transform\n",
    "\"\"\"\n",
    "※学習データと同じ列構造（同じ特徴量数）の X_poly_test を得たいため、テストデータではfitは呼ばない。\n",
    "（テストデータに対してfitを行うと、\n",
    "　本来未知であるべきテストデータの情報が学習過程に混入してしまう＝「データリーク」）\n",
    "\"\"\"\n",
    "\n",
    "model_poly = LinearRegression()\n",
    "model_poly.fit(X_poly_train, y_train)\n",
    "mse_poly = mean_squared_error(y_test, model_poly.predict(X_poly_test))"
   ]
  },
  {
   "cell_type": "markdown",
   "id": "9e889140",
   "metadata": {},
   "source": [
    "### 2b. Compare model performance before and after transformation"
   ]
  },
  {
   "cell_type": "code",
   "execution_count": 38,
   "id": "0f5c77ca",
   "metadata": {},
   "outputs": [
    {
     "name": "stdout",
     "output_type": "stream",
     "text": [
      "MSE original: 2391051.89\n",
      "MSE Polynomial: 2431396.49\n"
     ]
    }
   ],
   "source": [
    "# Compare results\n",
    "print(f\"MSE original: {mse_original:.2f}\")\n",
    "print(f\"MSE Polynomial: {mse_poly:.2f}\")"
   ]
  }
 ],
 "metadata": {
  "kernelspec": {
   "display_name": "Python 3",
   "language": "python",
   "name": "python3"
  },
  "language_info": {
   "codemirror_mode": {
    "name": "ipython",
    "version": 3
   },
   "file_extension": ".py",
   "mimetype": "text/x-python",
   "name": "python",
   "nbconvert_exporter": "python",
   "pygments_lexer": "ipython3",
   "version": "3.13.6"
  }
 },
 "nbformat": 4,
 "nbformat_minor": 5
}
