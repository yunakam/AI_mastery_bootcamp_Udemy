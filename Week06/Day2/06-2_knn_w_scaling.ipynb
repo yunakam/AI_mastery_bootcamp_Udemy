{
 "cells": [
  {
   "cell_type": "markdown",
   "id": "c3a4db27",
   "metadata": {},
   "source": [
    "# 機械学習におけるスケーリングと正規化"
   ]
  },
  {
   "cell_type": "markdown",
   "id": "e40277ae",
   "metadata": {},
   "source": [
    "### 【手法】\n",
    "#### 最小ー最大スケーリング\n",
    "- 特徴量を指定された範囲（通常は[0, 1]）に変換\n",
    "- すべての特徴量が同じ範囲に収まるようにする\n",
    "- **使用例**：k-NNまたはニューラルネットワーク\n",
    "- **制限事項**：外れ値の影響を受けやすく、極端な値がスケールを歪める可能性がある\n",
    "\n",
    "#### 標準化（Zスコアスケーリング）\n",
    "- データを、平均がゼロ、標準偏差が1になるようにスケーリング\n",
    "- 各特長量が標準正規分布に従うことを保証する\n",
    "- **使用例**：SVM、ロジスティック回帰、PCA\n",
    "- **利点**：最小ー最大スケーリングよりも外れ値を適切に処理できる"
   ]
  },
  {
   "cell_type": "markdown",
   "id": "d4b72e1c",
   "metadata": {},
   "source": [
    "### 【適用場面】\n",
    "\n",
    "##### スケーリングを必要とするアルゴリズム\n",
    "- **距離ベースアルゴリズム**：k-NN、SVM、K-Meansクラスタリング\n",
    "- **勾配ベースモデル**：線形回帰、ロジスティック回帰、ニューラルネットワーク\n",
    "\n",
    "##### スケーリングの影響を受けにくいアルゴリズム\n",
    "- **ツリーベースモデル**：決定木、ランダムフォレスト、勾配ブースティング"
   ]
  },
  {
   "cell_type": "markdown",
   "id": "a13cb72d",
   "metadata": {},
   "source": [
    "---\n",
    "## 演習\n",
    "- scikit-learn を使用して、データセットに最小-最大スケーリングと標準化を適用する\n",
    "- スケーリングの前後でk近傍法アルゴリズム(kNN)をトレーニングすることにより、スケーリングがモデルのパフォーマンスに与える影響を観察する"
   ]
  },
  {
   "cell_type": "markdown",
   "id": "c5a5a0d0",
   "metadata": {},
   "source": [
    "### Load dataset"
   ]
  },
  {
   "cell_type": "code",
   "execution_count": 1,
   "id": "758f4e04",
   "metadata": {},
   "outputs": [],
   "source": [
    "from sklearn.datasets import load_iris\n",
    "import pandas as pd\n",
    "\n",
    "# Load Iris dataset\n",
    "iris = load_iris()\n",
    "X = pd.DataFrame(data=iris.data, columns=iris.feature_names)\n",
    "y = iris.target"
   ]
  },
  {
   "cell_type": "code",
   "execution_count": 2,
   "id": "38db19a8",
   "metadata": {},
   "outputs": [
    {
     "name": "stdout",
     "output_type": "stream",
     "text": [
      "\n",
      "Features:  ['sepal length (cm)', 'sepal width (cm)', 'petal length (cm)', 'petal width (cm)']\n",
      "\n",
      "Statistics:\n",
      "        sepal length (cm)  sepal width (cm)  petal length (cm)  \\\n",
      "count         150.000000        150.000000         150.000000   \n",
      "mean            5.843333          3.057333           3.758000   \n",
      "std             0.828066          0.435866           1.765298   \n",
      "min             4.300000          2.000000           1.000000   \n",
      "25%             5.100000          2.800000           1.600000   \n",
      "50%             5.800000          3.000000           4.350000   \n",
      "75%             6.400000          3.300000           5.100000   \n",
      "max             7.900000          4.400000           6.900000   \n",
      "\n",
      "       petal width (cm)  \n",
      "count        150.000000  \n",
      "mean           1.199333  \n",
      "std            0.762238  \n",
      "min            0.100000  \n",
      "25%            0.300000  \n",
      "50%            1.300000  \n",
      "75%            1.800000  \n",
      "max            2.500000  \n",
      "\n",
      "Target Classes:  ['setosa' 'versicolor' 'virginica']\n",
      "\n",
      "Target Values:\n",
      " [0 0 0 0 0 0 0 0 0 0 0 0 0 0 0 0 0 0 0 0 0 0 0 0 0 0 0 0 0 0 0 0 0 0 0 0 0\n",
      " 0 0 0 0 0 0 0 0 0 0 0 0 0 1 1 1 1 1 1 1 1 1 1 1 1 1 1 1 1 1 1 1 1 1 1 1 1\n",
      " 1 1 1 1 1 1 1 1 1 1 1 1 1 1 1 1 1 1 1 1 1 1 1 1 1 1 2 2 2 2 2 2 2 2 2 2 2\n",
      " 2 2 2 2 2 2 2 2 2 2 2 2 2 2 2 2 2 2 2 2 2 2 2 2 2 2 2 2 2 2 2 2 2 2 2 2 2\n",
      " 2 2]\n"
     ]
    }
   ],
   "source": [
    " # Display dataset information\n",
    "print(\"\\nFeatures: \", iris.feature_names)  # Display feature names\n",
    "print(\"\\nStatistics:\\n\", X.describe())\n",
    "\n",
    "print(\"\\nTarget Classes: \", iris.target_names)  # Display target values\n",
    "print(\"\\nTarget Values:\\n\", y)"
   ]
  },
  {
   "cell_type": "markdown",
   "id": "81183ee9",
   "metadata": {},
   "source": [
    "### k近傍モデルを訓練、テストデータを予測、正解率を評価"
   ]
  },
  {
   "cell_type": "code",
   "execution_count": 4,
   "id": "cd953622",
   "metadata": {},
   "outputs": [
    {
     "name": "stdout",
     "output_type": "stream",
     "text": [
      "Accuracy without scaling: 1.0\n"
     ]
    }
   ],
   "source": [
    "from sklearn.model_selection import train_test_split\n",
    "from sklearn.neighbors import KNeighborsClassifier\n",
    "from sklearn.metrics import accuracy_score\n",
    "from sklearn.preprocessing import MinMaxScaler, StandardScaler    # for scaling features\n",
    "\n",
    "# Split the dataset into training and testing sets\n",
    "X_train, X_test, y_train, y_test = train_test_split(X, y, test_size=0.2, random_state=42)\n",
    "\n",
    "# Train a k-NN classifier\n",
    "knn = KNeighborsClassifier(n_neighbors=5)   # Number of neighbors can be adjusted\n",
    "knn.fit(X_train, y_train)\n",
    "\n",
    "# Predict and evaluate the model\n",
    "y_pred = knn.predict(X_test)\n",
    "print(\"Accuracy without scaling:\", accuracy_score(y_test, y_pred))"
   ]
  },
  {
   "cell_type": "markdown",
   "id": "c5eea681",
   "metadata": {},
   "source": [
    "### 標準化スケーリングを適用"
   ]
  },
  {
   "cell_type": "code",
   "execution_count": 5,
   "id": "43ecdf43",
   "metadata": {},
   "outputs": [
    {
     "name": "stdout",
     "output_type": "stream",
     "text": [
      "Accuracy with standard scaling: 1.0\n"
     ]
    }
   ],
   "source": [
    "# Apply Standard scaling and repeat the process\n",
    "scaler = StandardScaler()\n",
    "X_scaled = scaler.fit_transform(X)\n",
    "\n",
    "X_train_scaled, X_test_scaled, y_train_scaled, y_test_scaled = train_test_split(X_scaled, y, test_size=0.2, random_state=42)\n",
    "\n",
    "knn_scaled = KNeighborsClassifier(n_neighbors=5)\n",
    "knn_scaled.fit(X_train_scaled, y_train_scaled)\n",
    "\n",
    "y_pred_scaled = knn_scaled.predict(X_test_scaled)\n",
    "print(\"Accuracy with standard scaling:\", accuracy_score(y_test_scaled, y_pred_scaled))"
   ]
  },
  {
   "cell_type": "markdown",
   "id": "a71aca15",
   "metadata": {},
   "source": [
    "### 最小－最大スケーリングを適用"
   ]
  },
  {
   "cell_type": "code",
   "execution_count": 6,
   "id": "e4a437ec",
   "metadata": {},
   "outputs": [
    {
     "name": "stdout",
     "output_type": "stream",
     "text": [
      "Accuracy with Min-Max scaling: 1.0\n"
     ]
    }
   ],
   "source": [
    "# Apply Min-Max scaling and repeat the process\n",
    "scaler_minmax = MinMaxScaler()\n",
    "X_minmax_scaled = scaler_minmax.fit_transform(X)\n",
    "X_train_minmax_scaled, X_test_minmax_scaled, y_train_minmax_scaled, y_test_minmax_scaled = train_test_split(X_minmax_scaled, y, test_size=0.2, random_state=42)\n",
    "\n",
    "knn_minmax_scaled = KNeighborsClassifier(n_neighbors=5)\n",
    "knn_minmax_scaled.fit(X_train_minmax_scaled, y_train_minmax_scaled)\n",
    "\n",
    "y_pred_minmax_scaled = knn_minmax_scaled.predict(X_test_minmax_scaled)\n",
    "print(\"Accuracy with Min-Max scaling:\", accuracy_score(y_test_minmax_scaled, y_pred_minmax_scaled))"
   ]
  }
 ],
 "metadata": {
  "kernelspec": {
   "display_name": "Python 3",
   "language": "python",
   "name": "python3"
  },
  "language_info": {
   "codemirror_mode": {
    "name": "ipython",
    "version": 3
   },
   "file_extension": ".py",
   "mimetype": "text/x-python",
   "name": "python",
   "nbconvert_exporter": "python",
   "pygments_lexer": "ipython3",
   "version": "3.13.6"
  }
 },
 "nbformat": 4,
 "nbformat_minor": 5
}
